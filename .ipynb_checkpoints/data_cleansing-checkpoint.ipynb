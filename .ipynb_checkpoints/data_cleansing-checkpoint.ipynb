{
 "cells": [
  {
   "cell_type": "code",
   "execution_count": 1,
   "id": "49ecdc28",
   "metadata": {
    "pycharm": {
     "is_executing": true
    }
   },
   "outputs": [],
   "source": [
    "import pandas as pd"
   ]
  },
  {
   "cell_type": "code",
   "execution_count": 7,
   "id": "f45680ea",
   "metadata": {},
   "outputs": [
    {
     "data": {
      "text/plain": [
       "1"
      ]
     },
     "execution_count": 7,
     "metadata": {},
     "output_type": "execute_result"
    }
   ],
   "source": [
    "raw_dataframe  = pd.read_csv('C:/Users/rugby/Documents/Canada/CV/Jack/Clariti/raw_fees.csv')\n",
    "max(raw_dataframe[\"Id\"].value_counts())"
   ]
  },
  {
   "cell_type": "code",
   "execution_count": 8,
   "id": "60696c9d",
   "metadata": {},
   "outputs": [
    {
     "data": {
      "text/html": [
       "<div>\n",
       "<style scoped>\n",
       "    .dataframe tbody tr th:only-of-type {\n",
       "        vertical-align: middle;\n",
       "    }\n",
       "\n",
       "    .dataframe tbody tr th {\n",
       "        vertical-align: top;\n",
       "    }\n",
       "\n",
       "    .dataframe thead th {\n",
       "        text-align: right;\n",
       "    }\n",
       "</style>\n",
       "<table border=\"1\" class=\"dataframe\">\n",
       "  <thead>\n",
       "    <tr style=\"text-align: right;\">\n",
       "      <th></th>\n",
       "      <th>Name</th>\n",
       "      <th>Description__c</th>\n",
       "      <th>Department__c</th>\n",
       "      <th>Category__c</th>\n",
       "      <th>Sub_Category__c</th>\n",
       "      <th>Type__c</th>\n",
       "      <th>Quantity__c</th>\n",
       "      <th>Unit_Price__c</th>\n",
       "    </tr>\n",
       "    <tr>\n",
       "      <th>Id</th>\n",
       "      <th></th>\n",
       "      <th></th>\n",
       "      <th></th>\n",
       "      <th></th>\n",
       "      <th></th>\n",
       "      <th></th>\n",
       "      <th></th>\n",
       "      <th></th>\n",
       "    </tr>\n",
       "  </thead>\n",
       "  <tbody>\n",
       "    <tr>\n",
       "      <th>a00P0000006KXnPIAW</th>\n",
       "      <td>Capers - Ox Eye Daisy</td>\n",
       "      <td>nisi venenatis tristique fusce congue diam id ...</td>\n",
       "      <td>Support</td>\n",
       "      <td>Tier 2</td>\n",
       "      <td>Cat1</td>\n",
       "      <td>TypeB</td>\n",
       "      <td>9</td>\n",
       "      <td>2.82</td>\n",
       "    </tr>\n",
       "    <tr>\n",
       "      <th>a00P0000006KXnQIAW</th>\n",
       "      <td>Lettuce - Frisee</td>\n",
       "      <td>eget rutrum at lorem integer tincidunt ante ve...</td>\n",
       "      <td>Development</td>\n",
       "      <td>Quality Assurance</td>\n",
       "      <td>Cat1</td>\n",
       "      <td>TypeA</td>\n",
       "      <td>3</td>\n",
       "      <td>39.29</td>\n",
       "    </tr>\n",
       "    <tr>\n",
       "      <th>a00P0000006KXnRIAW</th>\n",
       "      <td>Bag - Clear 7 Lb</td>\n",
       "      <td>fusce congue diam id ornare imperdiet sapien u...</td>\n",
       "      <td>Development</td>\n",
       "      <td>Quality Assurance</td>\n",
       "      <td>Cat2</td>\n",
       "      <td>TypeA</td>\n",
       "      <td>1</td>\n",
       "      <td>97.03</td>\n",
       "    </tr>\n",
       "    <tr>\n",
       "      <th>a00P0000006KXnSIAW</th>\n",
       "      <td>Pepper - Green Thai</td>\n",
       "      <td>dolor morbi vel lectus in quam fringilla rhonc...</td>\n",
       "      <td>Development</td>\n",
       "      <td>Coding</td>\n",
       "      <td>Cat1</td>\n",
       "      <td>TypeC</td>\n",
       "      <td>9</td>\n",
       "      <td>28.35</td>\n",
       "    </tr>\n",
       "    <tr>\n",
       "      <th>a00P0000006KXnTIAW</th>\n",
       "      <td>Table Cloth 53x53 White</td>\n",
       "      <td>vivamus vel nulla eget eros elementum pellente...</td>\n",
       "      <td>Sales</td>\n",
       "      <td>Sales Engineering</td>\n",
       "      <td>Cat2</td>\n",
       "      <td>TypeB</td>\n",
       "      <td>8</td>\n",
       "      <td>95.96</td>\n",
       "    </tr>\n",
       "  </tbody>\n",
       "</table>\n",
       "</div>"
      ],
      "text/plain": [
       "                                       Name  \\\n",
       "Id                                            \n",
       "a00P0000006KXnPIAW    Capers - Ox Eye Daisy   \n",
       "a00P0000006KXnQIAW         Lettuce - Frisee   \n",
       "a00P0000006KXnRIAW         Bag - Clear 7 Lb   \n",
       "a00P0000006KXnSIAW      Pepper - Green Thai   \n",
       "a00P0000006KXnTIAW  Table Cloth 53x53 White   \n",
       "\n",
       "                                                       Description__c  \\\n",
       "Id                                                                      \n",
       "a00P0000006KXnPIAW  nisi venenatis tristique fusce congue diam id ...   \n",
       "a00P0000006KXnQIAW  eget rutrum at lorem integer tincidunt ante ve...   \n",
       "a00P0000006KXnRIAW  fusce congue diam id ornare imperdiet sapien u...   \n",
       "a00P0000006KXnSIAW  dolor morbi vel lectus in quam fringilla rhonc...   \n",
       "a00P0000006KXnTIAW  vivamus vel nulla eget eros elementum pellente...   \n",
       "\n",
       "                   Department__c        Category__c Sub_Category__c Type__c  \\\n",
       "Id                                                                            \n",
       "a00P0000006KXnPIAW       Support             Tier 2            Cat1   TypeB   \n",
       "a00P0000006KXnQIAW   Development  Quality Assurance            Cat1   TypeA   \n",
       "a00P0000006KXnRIAW   Development  Quality Assurance            Cat2   TypeA   \n",
       "a00P0000006KXnSIAW   Development             Coding            Cat1   TypeC   \n",
       "a00P0000006KXnTIAW         Sales  Sales Engineering            Cat2   TypeB   \n",
       "\n",
       "                    Quantity__c  Unit_Price__c  \n",
       "Id                                              \n",
       "a00P0000006KXnPIAW            9           2.82  \n",
       "a00P0000006KXnQIAW            3          39.29  \n",
       "a00P0000006KXnRIAW            1          97.03  \n",
       "a00P0000006KXnSIAW            9          28.35  \n",
       "a00P0000006KXnTIAW            8          95.96  "
      ]
     },
     "execution_count": 8,
     "metadata": {},
     "output_type": "execute_result"
    }
   ],
   "source": [
    "raw_dataframe.set_index('Id', inplace=True)\n",
    "raw_dataframe.head()"
   ]
  },
  {
   "cell_type": "markdown",
   "id": "895f0701",
   "metadata": {},
   "source": [
    "# Converting from categorical to numerical\n",
    "## One hot encoding\n",
    "Rather than having a dataset full of categorical data it is better to cleanse the data and convert to numerical values"
   ]
  },
  {
   "cell_type": "code",
   "execution_count": 20,
   "id": "a26d2874",
   "metadata": {},
   "outputs": [
    {
     "data": {
      "text/html": [
       "<div>\n",
       "<style scoped>\n",
       "    .dataframe tbody tr th:only-of-type {\n",
       "        vertical-align: middle;\n",
       "    }\n",
       "\n",
       "    .dataframe tbody tr th {\n",
       "        vertical-align: top;\n",
       "    }\n",
       "\n",
       "    .dataframe thead th {\n",
       "        text-align: right;\n",
       "    }\n",
       "</style>\n",
       "<table border=\"1\" class=\"dataframe\">\n",
       "  <thead>\n",
       "    <tr style=\"text-align: right;\">\n",
       "      <th></th>\n",
       "      <th>Department__c</th>\n",
       "      <th>Category__c</th>\n",
       "      <th>Sub_Category__c</th>\n",
       "      <th>Type__c</th>\n",
       "      <th>Quantity__c</th>\n",
       "      <th>Unit_Price__c</th>\n",
       "    </tr>\n",
       "    <tr>\n",
       "      <th>Id</th>\n",
       "      <th></th>\n",
       "      <th></th>\n",
       "      <th></th>\n",
       "      <th></th>\n",
       "      <th></th>\n",
       "      <th></th>\n",
       "    </tr>\n",
       "  </thead>\n",
       "  <tbody>\n",
       "    <tr>\n",
       "      <th>a00P0000006KXnPIAW</th>\n",
       "      <td>Support</td>\n",
       "      <td>Tier 2</td>\n",
       "      <td>Cat1</td>\n",
       "      <td>TypeB</td>\n",
       "      <td>9</td>\n",
       "      <td>2.82</td>\n",
       "    </tr>\n",
       "    <tr>\n",
       "      <th>a00P0000006KXnQIAW</th>\n",
       "      <td>Development</td>\n",
       "      <td>Quality Assurance</td>\n",
       "      <td>Cat1</td>\n",
       "      <td>TypeA</td>\n",
       "      <td>3</td>\n",
       "      <td>39.29</td>\n",
       "    </tr>\n",
       "    <tr>\n",
       "      <th>a00P0000006KXnRIAW</th>\n",
       "      <td>Development</td>\n",
       "      <td>Quality Assurance</td>\n",
       "      <td>Cat2</td>\n",
       "      <td>TypeA</td>\n",
       "      <td>1</td>\n",
       "      <td>97.03</td>\n",
       "    </tr>\n",
       "    <tr>\n",
       "      <th>a00P0000006KXnSIAW</th>\n",
       "      <td>Development</td>\n",
       "      <td>Coding</td>\n",
       "      <td>Cat1</td>\n",
       "      <td>TypeC</td>\n",
       "      <td>9</td>\n",
       "      <td>28.35</td>\n",
       "    </tr>\n",
       "    <tr>\n",
       "      <th>a00P0000006KXnTIAW</th>\n",
       "      <td>Sales</td>\n",
       "      <td>Sales Engineering</td>\n",
       "      <td>Cat2</td>\n",
       "      <td>TypeB</td>\n",
       "      <td>8</td>\n",
       "      <td>95.96</td>\n",
       "    </tr>\n",
       "  </tbody>\n",
       "</table>\n",
       "</div>"
      ],
      "text/plain": [
       "                   Department__c        Category__c Sub_Category__c Type__c  \\\n",
       "Id                                                                            \n",
       "a00P0000006KXnPIAW       Support             Tier 2            Cat1   TypeB   \n",
       "a00P0000006KXnQIAW   Development  Quality Assurance            Cat1   TypeA   \n",
       "a00P0000006KXnRIAW   Development  Quality Assurance            Cat2   TypeA   \n",
       "a00P0000006KXnSIAW   Development             Coding            Cat1   TypeC   \n",
       "a00P0000006KXnTIAW         Sales  Sales Engineering            Cat2   TypeB   \n",
       "\n",
       "                    Quantity__c  Unit_Price__c  \n",
       "Id                                              \n",
       "a00P0000006KXnPIAW            9           2.82  \n",
       "a00P0000006KXnQIAW            3          39.29  \n",
       "a00P0000006KXnRIAW            1          97.03  \n",
       "a00P0000006KXnSIAW            9          28.35  \n",
       "a00P0000006KXnTIAW            8          95.96  "
      ]
     },
     "execution_count": 20,
     "metadata": {},
     "output_type": "execute_result"
    }
   ],
   "source": [
    "\n",
    "# Select node features\n",
    "node_features = raw_dataframe[[\"Department__c\", \"Category__c\", \"Sub_Category__c\", \"Type__c\", \"Quantity__c\", \"Unit_Price__c\"]]\n",
    "# # Convert non-numeric columns\n",
    "# pd.set_option('mode.chained_assignment', None)\n",
    "# ## Departmenmts\n",
    "# departments = node_features[\"Department__c\"].str.split(\",\", expand=True)\n",
    "# node_features[\"first_department\"] = departments[0]\n",
    "# # ## Category\n",
    "# categories = node_features[\"Category__c\"].str.split(\",\", expand=True)\n",
    "# node_features[\"first_category\"] = categories[0]\n",
    "# ## Sub Categories\n",
    "# sub_categories = node_features[\"Sub_Category__c\"].str.split(\",\", expand=True)\n",
    "# node_features[\"first_sub_category\"] = sub_categories[0]\n",
    "# ## Types\n",
    "# types = node_features[\"Type__c\"].str.split(\",\", expand=True)\n",
    "# node_features[\"first_type\"] = types[0]\n",
    "\n",
    "# # One-hot encoding\n",
    "# ## Departments\n",
    "# node_features = pd.concat([node_features, pd.get_dummies(node_features[\"first_department\"]).astype(int)], axis=1, join='inner')\n",
    "# node_features.drop([\"Department__c\", \"first_department\"], axis=1, inplace=True)\n",
    "# ## Catagories\n",
    "# node_features = pd.concat([node_features, pd.get_dummies(node_features[\"first_category\"]).astype(int)], axis=1, join='inner')\n",
    "# node_features.drop([\"Category__c\", \"first_category\"], axis=1, inplace=True)\n",
    "# ## Departments\n",
    "# node_features = pd.concat([node_features, pd.get_dummies(node_features[\"first_sub_category\"]).astype(int)], axis=1, join='inner')\n",
    "# node_features.drop([\"Sub_Category__c\", \"first_sub_category\"], axis=1, inplace=True)\n",
    "# ## Departments\n",
    "# node_features = pd.concat([node_features, pd.get_dummies(node_features[\"first_type\"]).astype(int)], axis=1, join='inner')\n",
    "# node_features.drop([\"Type__c\", \"first_type\"], axis=1, inplace=True)\n",
    "node_features.head() "
   ]
  },
  {
   "cell_type": "code",
   "execution_count": 21,
   "id": "4aa6c3ba",
   "metadata": {},
   "outputs": [
    {
     "data": {
      "text/plain": [
       "(10000, 6)"
      ]
     },
     "execution_count": 21,
     "metadata": {},
     "output_type": "execute_result"
    }
   ],
   "source": [
    "# Convert to numpy\n",
    "x = node_features.to_numpy()\n",
    "x.shape # [num_nodes x num_features]"
   ]
  },
  {
   "cell_type": "markdown",
   "id": "af515710",
   "metadata": {},
   "source": [
    "# Edge extraction\n",
    "Now we need to extract the edges that connect our different nodes, first we'll start with department. Each department will lead to a differetn subgroup that can then be traversed and searched when querying the dataset"
   ]
  }
 ],
 "metadata": {
  "kernelspec": {
   "display_name": "Python 3 (ipykernel)",
   "language": "python",
   "name": "python3"
  },
  "language_info": {
   "codemirror_mode": {
    "name": "ipython",
    "version": 3
   },
   "file_extension": ".py",
   "mimetype": "text/x-python",
   "name": "python",
   "nbconvert_exporter": "python",
   "pygments_lexer": "ipython3",
   "version": "3.11.4"
  }
 },
 "nbformat": 4,
 "nbformat_minor": 5
}
